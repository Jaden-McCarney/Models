{
  "nbformat": 4,
  "nbformat_minor": 0,
  "metadata": {
    "colab": {
      "provenance": []
    },
    "kernelspec": {
      "name": "python3",
      "display_name": "Python 3"
    },
    "language_info": {
      "name": "python"
    }
  },
  "cells": [
    {
      "cell_type": "code",
      "execution_count": 1,
      "metadata": {
        "id": "2faJlSgONClv"
      },
      "outputs": [],
      "source": [
        "import pandas as pd\n",
        "import matplotlib.pyplot as plt\n",
        "import numpy as np"
      ]
    },
    {
      "cell_type": "code",
      "source": [
        "df = pd.read_csv('Models/scores.csv')"
      ],
      "metadata": {
        "id": "Bkc5cfliNsKN",
        "colab": {
          "base_uri": "https://localhost:8080/",
          "height": 298
        },
        "outputId": "13e91171-0c27-48ab-905a-c5e2d7dfa6d6"
      },
      "execution_count": 3,
      "outputs": [
        {
          "output_type": "error",
          "ename": "FileNotFoundError",
          "evalue": "[Errno 2] No such file or directory: 'Models/scores.csv'",
          "traceback": [
            "\u001b[0;31m---------------------------------------------------------------------------\u001b[0m",
            "\u001b[0;31mFileNotFoundError\u001b[0m                         Traceback (most recent call last)",
            "\u001b[0;32m<ipython-input-3-063a9de503b5>\u001b[0m in \u001b[0;36m<cell line: 1>\u001b[0;34m()\u001b[0m\n\u001b[0;32m----> 1\u001b[0;31m \u001b[0mdf\u001b[0m \u001b[0;34m=\u001b[0m \u001b[0mpd\u001b[0m\u001b[0;34m.\u001b[0m\u001b[0mread_csv\u001b[0m\u001b[0;34m(\u001b[0m\u001b[0;34m'Models/scores.csv'\u001b[0m\u001b[0;34m)\u001b[0m\u001b[0;34m\u001b[0m\u001b[0;34m\u001b[0m\u001b[0m\n\u001b[0m",
            "\u001b[0;32m/usr/local/lib/python3.10/dist-packages/pandas/io/parsers/readers.py\u001b[0m in \u001b[0;36mread_csv\u001b[0;34m(filepath_or_buffer, sep, delimiter, header, names, index_col, usecols, dtype, engine, converters, true_values, false_values, skipinitialspace, skiprows, skipfooter, nrows, na_values, keep_default_na, na_filter, verbose, skip_blank_lines, parse_dates, infer_datetime_format, keep_date_col, date_parser, date_format, dayfirst, cache_dates, iterator, chunksize, compression, thousands, decimal, lineterminator, quotechar, quoting, doublequote, escapechar, comment, encoding, encoding_errors, dialect, on_bad_lines, delim_whitespace, low_memory, memory_map, float_precision, storage_options, dtype_backend)\u001b[0m\n\u001b[1;32m    946\u001b[0m     \u001b[0mkwds\u001b[0m\u001b[0;34m.\u001b[0m\u001b[0mupdate\u001b[0m\u001b[0;34m(\u001b[0m\u001b[0mkwds_defaults\u001b[0m\u001b[0;34m)\u001b[0m\u001b[0;34m\u001b[0m\u001b[0;34m\u001b[0m\u001b[0m\n\u001b[1;32m    947\u001b[0m \u001b[0;34m\u001b[0m\u001b[0m\n\u001b[0;32m--> 948\u001b[0;31m     \u001b[0;32mreturn\u001b[0m \u001b[0m_read\u001b[0m\u001b[0;34m(\u001b[0m\u001b[0mfilepath_or_buffer\u001b[0m\u001b[0;34m,\u001b[0m \u001b[0mkwds\u001b[0m\u001b[0;34m)\u001b[0m\u001b[0;34m\u001b[0m\u001b[0;34m\u001b[0m\u001b[0m\n\u001b[0m\u001b[1;32m    949\u001b[0m \u001b[0;34m\u001b[0m\u001b[0m\n\u001b[1;32m    950\u001b[0m \u001b[0;34m\u001b[0m\u001b[0m\n",
            "\u001b[0;32m/usr/local/lib/python3.10/dist-packages/pandas/io/parsers/readers.py\u001b[0m in \u001b[0;36m_read\u001b[0;34m(filepath_or_buffer, kwds)\u001b[0m\n\u001b[1;32m    609\u001b[0m \u001b[0;34m\u001b[0m\u001b[0m\n\u001b[1;32m    610\u001b[0m     \u001b[0;31m# Create the parser.\u001b[0m\u001b[0;34m\u001b[0m\u001b[0;34m\u001b[0m\u001b[0m\n\u001b[0;32m--> 611\u001b[0;31m     \u001b[0mparser\u001b[0m \u001b[0;34m=\u001b[0m \u001b[0mTextFileReader\u001b[0m\u001b[0;34m(\u001b[0m\u001b[0mfilepath_or_buffer\u001b[0m\u001b[0;34m,\u001b[0m \u001b[0;34m**\u001b[0m\u001b[0mkwds\u001b[0m\u001b[0;34m)\u001b[0m\u001b[0;34m\u001b[0m\u001b[0;34m\u001b[0m\u001b[0m\n\u001b[0m\u001b[1;32m    612\u001b[0m \u001b[0;34m\u001b[0m\u001b[0m\n\u001b[1;32m    613\u001b[0m     \u001b[0;32mif\u001b[0m \u001b[0mchunksize\u001b[0m \u001b[0;32mor\u001b[0m \u001b[0miterator\u001b[0m\u001b[0;34m:\u001b[0m\u001b[0;34m\u001b[0m\u001b[0;34m\u001b[0m\u001b[0m\n",
            "\u001b[0;32m/usr/local/lib/python3.10/dist-packages/pandas/io/parsers/readers.py\u001b[0m in \u001b[0;36m__init__\u001b[0;34m(self, f, engine, **kwds)\u001b[0m\n\u001b[1;32m   1446\u001b[0m \u001b[0;34m\u001b[0m\u001b[0m\n\u001b[1;32m   1447\u001b[0m         \u001b[0mself\u001b[0m\u001b[0;34m.\u001b[0m\u001b[0mhandles\u001b[0m\u001b[0;34m:\u001b[0m \u001b[0mIOHandles\u001b[0m \u001b[0;34m|\u001b[0m \u001b[0;32mNone\u001b[0m \u001b[0;34m=\u001b[0m \u001b[0;32mNone\u001b[0m\u001b[0;34m\u001b[0m\u001b[0;34m\u001b[0m\u001b[0m\n\u001b[0;32m-> 1448\u001b[0;31m         \u001b[0mself\u001b[0m\u001b[0;34m.\u001b[0m\u001b[0m_engine\u001b[0m \u001b[0;34m=\u001b[0m \u001b[0mself\u001b[0m\u001b[0;34m.\u001b[0m\u001b[0m_make_engine\u001b[0m\u001b[0;34m(\u001b[0m\u001b[0mf\u001b[0m\u001b[0;34m,\u001b[0m \u001b[0mself\u001b[0m\u001b[0;34m.\u001b[0m\u001b[0mengine\u001b[0m\u001b[0;34m)\u001b[0m\u001b[0;34m\u001b[0m\u001b[0;34m\u001b[0m\u001b[0m\n\u001b[0m\u001b[1;32m   1449\u001b[0m \u001b[0;34m\u001b[0m\u001b[0m\n\u001b[1;32m   1450\u001b[0m     \u001b[0;32mdef\u001b[0m \u001b[0mclose\u001b[0m\u001b[0;34m(\u001b[0m\u001b[0mself\u001b[0m\u001b[0;34m)\u001b[0m \u001b[0;34m->\u001b[0m \u001b[0;32mNone\u001b[0m\u001b[0;34m:\u001b[0m\u001b[0;34m\u001b[0m\u001b[0;34m\u001b[0m\u001b[0m\n",
            "\u001b[0;32m/usr/local/lib/python3.10/dist-packages/pandas/io/parsers/readers.py\u001b[0m in \u001b[0;36m_make_engine\u001b[0;34m(self, f, engine)\u001b[0m\n\u001b[1;32m   1703\u001b[0m                 \u001b[0;32mif\u001b[0m \u001b[0;34m\"b\"\u001b[0m \u001b[0;32mnot\u001b[0m \u001b[0;32min\u001b[0m \u001b[0mmode\u001b[0m\u001b[0;34m:\u001b[0m\u001b[0;34m\u001b[0m\u001b[0;34m\u001b[0m\u001b[0m\n\u001b[1;32m   1704\u001b[0m                     \u001b[0mmode\u001b[0m \u001b[0;34m+=\u001b[0m \u001b[0;34m\"b\"\u001b[0m\u001b[0;34m\u001b[0m\u001b[0;34m\u001b[0m\u001b[0m\n\u001b[0;32m-> 1705\u001b[0;31m             self.handles = get_handle(\n\u001b[0m\u001b[1;32m   1706\u001b[0m                 \u001b[0mf\u001b[0m\u001b[0;34m,\u001b[0m\u001b[0;34m\u001b[0m\u001b[0;34m\u001b[0m\u001b[0m\n\u001b[1;32m   1707\u001b[0m                 \u001b[0mmode\u001b[0m\u001b[0;34m,\u001b[0m\u001b[0;34m\u001b[0m\u001b[0;34m\u001b[0m\u001b[0m\n",
            "\u001b[0;32m/usr/local/lib/python3.10/dist-packages/pandas/io/common.py\u001b[0m in \u001b[0;36mget_handle\u001b[0;34m(path_or_buf, mode, encoding, compression, memory_map, is_text, errors, storage_options)\u001b[0m\n\u001b[1;32m    861\u001b[0m         \u001b[0;32mif\u001b[0m \u001b[0mioargs\u001b[0m\u001b[0;34m.\u001b[0m\u001b[0mencoding\u001b[0m \u001b[0;32mand\u001b[0m \u001b[0;34m\"b\"\u001b[0m \u001b[0;32mnot\u001b[0m \u001b[0;32min\u001b[0m \u001b[0mioargs\u001b[0m\u001b[0;34m.\u001b[0m\u001b[0mmode\u001b[0m\u001b[0;34m:\u001b[0m\u001b[0;34m\u001b[0m\u001b[0;34m\u001b[0m\u001b[0m\n\u001b[1;32m    862\u001b[0m             \u001b[0;31m# Encoding\u001b[0m\u001b[0;34m\u001b[0m\u001b[0;34m\u001b[0m\u001b[0m\n\u001b[0;32m--> 863\u001b[0;31m             handle = open(\n\u001b[0m\u001b[1;32m    864\u001b[0m                 \u001b[0mhandle\u001b[0m\u001b[0;34m,\u001b[0m\u001b[0;34m\u001b[0m\u001b[0;34m\u001b[0m\u001b[0m\n\u001b[1;32m    865\u001b[0m                 \u001b[0mioargs\u001b[0m\u001b[0;34m.\u001b[0m\u001b[0mmode\u001b[0m\u001b[0;34m,\u001b[0m\u001b[0;34m\u001b[0m\u001b[0;34m\u001b[0m\u001b[0m\n",
            "\u001b[0;31mFileNotFoundError\u001b[0m: [Errno 2] No such file or directory: 'Models/scores.csv'"
          ]
        }
      ]
    },
    {
      "cell_type": "code",
      "source": [
        "df.head()"
      ],
      "metadata": {
        "id": "3hvRaB4fNx1o"
      },
      "execution_count": null,
      "outputs": []
    },
    {
      "cell_type": "code",
      "source": [
        "df.describe()"
      ],
      "metadata": {
        "id": "gvDRAtEYN0Mm"
      },
      "execution_count": null,
      "outputs": []
    },
    {
      "cell_type": "code",
      "source": [
        "from sklearn.linear_model import LinearRegression\n",
        "from sklearn.metrics import mean_squared_error\n",
        "lm = LinearRegression()\n",
        "\n"
      ],
      "metadata": {
        "id": "eULYEd-bOW_y"
      },
      "execution_count": null,
      "outputs": []
    },
    {
      "cell_type": "code",
      "source": [
        "X = np.array(df['After_School_Snacks_ADP']).reshape(-1, 1)\n",
        "y = np.array(df['Average District Score (SAT Math)']).reshape(-1, 1)\n",
        "lm.fit(X, y)\n",
        "\n",
        "plt.scatter(df['After_School_Snacks_ADP'], df['Average District Score (SAT Math)'])\n",
        "plt.plot(X, lm.predict(X))\n",
        "plt.xlabel('After School Snacks ADP')\n",
        "plt.ylabel('Average District Score (SAT Math)')\n",
        "plt.ylim(0, 600)\n",
        "plt.show()"
      ],
      "metadata": {
        "id": "Cyq1tlq7Pc5F"
      },
      "execution_count": null,
      "outputs": []
    },
    {
      "cell_type": "code",
      "source": [
        "X = np.array(df['After_School_Snacks_ADP']).reshape(-1, 1)\n",
        "y = np.array(df['Average District Score (SAT Reading)']).reshape(-1, 1)\n",
        "lm.fit(X, y)\n",
        "\n",
        "plt.scatter(df['After_School_Snacks_ADP'], df['Average District Score (SAT Reading)'])\n",
        "plt.plot(X, lm.predict(X))\n",
        "plt.xlabel('After School Snacks ADP')\n",
        "plt.ylabel('Average District Score (SAT Reading)')\n",
        "plt.ylim(0, 600)\n",
        "plt.show()"
      ],
      "metadata": {
        "id": "QTN89V4d2nsJ"
      },
      "execution_count": null,
      "outputs": []
    },
    {
      "cell_type": "code",
      "source": [
        "X = np.array(df['After_School_Snacks_ADP']).reshape(-1, 1)\n",
        "y = np.array(df['Average District Score (SAT Writing)']).reshape(-1, 1)\n",
        "lm.fit(X, y)\n",
        "\n",
        "plt.scatter(df['After_School_Snacks_ADP'], df['Average District Score (SAT Writing)'])\n",
        "plt.plot(X, lm.predict(X))\n",
        "plt.xlabel('After School Snacks ADP')\n",
        "plt.ylabel('Average District Score (SAT Writing)')\n",
        "plt.ylim(0, 600)\n",
        "plt.show()"
      ],
      "metadata": {
        "id": "uMvbxg9z2n4i"
      },
      "execution_count": null,
      "outputs": []
    },
    {
      "cell_type": "code",
      "source": [
        "X = np.array(df['After_School_Supper_ADP']).reshape(-1, 1)\n",
        "y = np.array(df['Average District Score (SAT Math)']).reshape(-1, 1)\n",
        "lm.fit(X, y)\n",
        "\n",
        "plt.scatter(df['After_School_Supper_ADP'], df['Average District Score (SAT Math)'])\n",
        "plt.plot(X, lm.predict(X))\n",
        "plt.xlabel('After School Supper ADP')\n",
        "plt.ylabel('Average District Score (SAT Math)')\n",
        "plt.ylim(0, 600)\n",
        "plt.show()"
      ],
      "metadata": {
        "id": "oWATsEwLJpvx"
      },
      "execution_count": null,
      "outputs": []
    },
    {
      "cell_type": "code",
      "source": [
        "X = np.array(df['After_School_Supper_ADP']).reshape(-1, 1)\n",
        "y = np.array(df['Average District Score (SAT Reading)']).reshape(-1, 1)\n",
        "lm.fit(X, y)\n",
        "\n",
        "plt.scatter(df['After_School_Supper_ADP'], df['Average District Score (SAT Reading)'])\n",
        "plt.plot(X, lm.predict(X))\n",
        "plt.xlabel('After School Supper ADP')\n",
        "plt.ylabel('Average District Score (SAT Reading)')\n",
        "plt.ylim(0, 600)\n",
        "plt.show()"
      ],
      "metadata": {
        "id": "WaKNWB7-JptF"
      },
      "execution_count": null,
      "outputs": []
    },
    {
      "cell_type": "code",
      "source": [
        "X = np.array(df['After_School_Supper_ADP']).reshape(-1, 1)\n",
        "y = np.array(df['Average District Score (SAT Writing)']).reshape(-1, 1)\n",
        "lm.fit(X, y)\n",
        "\n",
        "plt.scatter(df['After_School_Supper_ADP'], df['Average District Score (SAT Writing)'])\n",
        "plt.plot(X, lm.predict(X))\n",
        "plt.xlabel('After School Supper ADP')\n",
        "plt.ylabel('Average District Score (SAT Writing)')\n",
        "plt.ylim(0, 600)\n",
        "plt.show()"
      ],
      "metadata": {
        "id": "f1DlnS-4JpqD"
      },
      "execution_count": null,
      "outputs": []
    },
    {
      "cell_type": "code",
      "source": [
        "X = np.array(df['Lunch_ADP']).reshape(-1, 1)\n",
        "y = np.array(df['Average District Score (SAT Math)']).reshape(-1, 1)\n",
        "lm.fit(X, y)\n",
        "\n",
        "plt.scatter(df['Lunch_ADP'], df['Average District Score (SAT Math)'])\n",
        "plt.plot(X, lm.predict(X))\n",
        "plt.xlabel('Lunch ADP')\n",
        "plt.ylabel('Average District Score (SAT Math)')\n",
        "plt.ylim(0, 600)\n",
        "plt.show()"
      ],
      "metadata": {
        "id": "hxT8bogFJnZe"
      },
      "execution_count": null,
      "outputs": []
    },
    {
      "cell_type": "code",
      "source": [
        "X = np.array(df['Lunch_ADP']).reshape(-1, 1)\n",
        "y = np.array(df['Average District Score (SAT Reading)']).reshape(-1, 1)\n",
        "lm.fit(X, y)\n",
        "\n",
        "plt.scatter(df['Lunch_ADP'], df['Average District Score (SAT Reading)'])\n",
        "plt.plot(X, lm.predict(X))\n",
        "plt.xlabel('Lunch ADP')\n",
        "plt.ylabel('Average District Score (SAT Reading)')\n",
        "plt.ylim(0, 600)\n",
        "plt.show()"
      ],
      "metadata": {
        "id": "3U3gjBKfJnV3"
      },
      "execution_count": null,
      "outputs": []
    },
    {
      "cell_type": "code",
      "source": [
        "X = np.array(df['Lunch_ADP']).reshape(-1, 1)\n",
        "y = np.array(df['Average District Score (SAT Writing)']).reshape(-1, 1)\n",
        "lm.fit(X, y)\n",
        "\n",
        "plt.scatter(df['Lunch_ADP'], df['Average District Score (SAT Writing)'])\n",
        "plt.plot(X, lm.predict(X))\n",
        "plt.xlabel('Lunch ADP')\n",
        "plt.ylabel('Average District Score (SAT Writing)')\n",
        "plt.ylim(0, 600)\n",
        "plt.show()"
      ],
      "metadata": {
        "id": "tDPWPm54JnSM"
      },
      "execution_count": null,
      "outputs": []
    },
    {
      "cell_type": "code",
      "source": [
        "X = np.array(df['Breakfast_ADP']).reshape(-1, 1)\n",
        "y = np.array(df['Average District Score (SAT Math)']).reshape(-1, 1)\n",
        "lm.fit(X, y)\n",
        "\n",
        "plt.scatter(df['Breakfast_ADP'], df['Average District Score (SAT Math)'])\n",
        "plt.plot(X, lm.predict(X))\n",
        "plt.xlabel('Breakfast ADP')\n",
        "plt.ylabel('Average District Score (SAT Math)')\n",
        "plt.ylim(0, 600)\n",
        "plt.show()"
      ],
      "metadata": {
        "id": "i2z1bC2BJmxN"
      },
      "execution_count": null,
      "outputs": []
    },
    {
      "cell_type": "code",
      "source": [
        "X = np.array(df['Breakfast_ADP']).reshape(-1, 1)\n",
        "y = np.array(df['Average District Score (SAT Reading)']).reshape(-1, 1)\n",
        "lm.fit(X, y)\n",
        "\n",
        "plt.scatter(df['Breakfast_ADP'], df['Average District Score (SAT Reading)'])\n",
        "plt.plot(X, lm.predict(X))\n",
        "plt.xlabel('Breakfast ADP')\n",
        "plt.ylabel('Average District Score (SAT Reading)')\n",
        "plt.ylim(0, 600)\n",
        "plt.show()"
      ],
      "metadata": {
        "id": "1M-I1lCgJmqw"
      },
      "execution_count": null,
      "outputs": []
    },
    {
      "cell_type": "code",
      "source": [
        "X = np.array(df['Breakfast_ADP']).reshape(-1, 1)\n",
        "y = np.array(df['Average District Score (SAT Writing)']).reshape(-1, 1)\n",
        "lm.fit(X, y)\n",
        "\n",
        "plt.scatter(df['Breakfast_ADP'], df['Average District Score (SAT Writing)'])\n",
        "plt.plot(X, lm.predict(X))\n",
        "plt.xlabel('Breakfast ADP')\n",
        "plt.ylabel('Average District Score (SAT Writing)')\n",
        "plt.ylim(0, 600)\n",
        "plt.show()"
      ],
      "metadata": {
        "id": "z7GtlhvHJmhQ"
      },
      "execution_count": null,
      "outputs": []
    }
  ]
}