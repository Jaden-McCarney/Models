{
  "nbformat": 4,
  "nbformat_minor": 0,
  "metadata": {
    "colab": {
      "provenance": []
    },
    "kernelspec": {
      "name": "python3",
      "display_name": "Python 3"
    },
    "language_info": {
      "name": "python"
    }
  },
  "cells": [
    {
      "cell_type": "code",
      "execution_count": null,
      "metadata": {
        "id": "vAmGgSl3Lue_"
      },
      "outputs": [],
      "source": [
        "import pandas as pd\n",
        "import numpy as np"
      ]
    },
    {
      "cell_type": "code",
      "source": [
        "df = pd.read_csv('Models/scores.csv')"
      ],
      "metadata": {
        "id": "M08axuOFMMJw"
      },
      "execution_count": null,
      "outputs": []
    },
    {
      "cell_type": "code",
      "source": [
        "df.head()"
      ],
      "metadata": {
        "id": "mLwwBs-XMY3E"
      },
      "execution_count": null,
      "outputs": []
    },
    {
      "cell_type": "code",
      "source": [
        "import tensorflow as tf\n",
        "import keras\n",
        "from keras import layers\n",
        "from tensorflow.keras.layers import Dropout\n",
        "from tensorflow.keras.layers import SimpleRNN\n",
        "from tensorflow.keras.layers import BatchNormalization\n",
        "from keras.models import Sequential\n",
        "from keras.layers import Dense\n",
        "from tensorflow.keras.layers import Flatten\n",
        "from sklearn.model_selection import train_test_split\n",
        "\n",
        "Xinput = input(\"Enter desired average ADP (Breakfast, Lunch, Supper, Snacks)\")\n",
        "Yinput = input(\"Enter desired average SAT (Math, Reading, Writing)\")\n",
        "\n",
        "if Xinput == \"Breakfast\":\n",
        "  X = df['Breakfast_ADP']\n",
        "if Xinput == \"Lunch\":\n",
        "  X = df['Lunch_ADP']\n",
        "if Xinput == \"Supper\":\n",
        "  X = df['After_School_Supper_ADP']\n",
        "if Xinput == \"Snacks\":\n",
        "  X = df['After_School_Snacks_ADP']\n",
        "\n",
        "if Yinput == \"Math\":\n",
        "  y = df['Average District Score (SAT Math)']\n",
        "if Yinput == \"Reading\":\n",
        "  y = df['Average District Score (SAT Reading)']\n",
        "if Yinput == \"Writing\":\n",
        "  y = df['Average District Score (SAT Writing)']\n",
        "\n",
        "X_train, X_test, y_train, y_test = train_test_split(X, y, test_size=0.2)\n",
        "print(X_train.shape)\n",
        "print(y_train.shape)\n",
        "\n",
        "\"\"\"\n",
        "Things you can change:\n",
        "1. Number of nodes in each layer\n",
        "2. Number of layers\n",
        "3. Types of layers\n",
        "4. Number of epochs\n",
        "5. Activation\n",
        "\"\"\"\n",
        "model = tf.keras.models.Sequential([\n",
        "    Dense(512, activation=tf.nn.relu),\n",
        "    Dense(256, activation=tf.nn.relu),\n",
        "    Dropout(0.5),\n",
        "    Dense(64, activation=tf.nn.relu),\n",
        "    Dense(32, activation=tf.nn.relu),\n",
        "    Dense(1)\n",
        "])\n",
        "#model.compile(optimizer=\"adam\", loss=\"mse\")\n",
        "model.compile(optimizer=\"adam\", loss=\"mse\", metrics=[\"mse\"])\n",
        "model.fit(X_train, y_train, epochs=75, validation_data=(X_test, y_test))\n",
        "\n",
        "predictions = model(X_train).numpy()\n",
        "predictions"
      ],
      "metadata": {
        "id": "Y1q9NpECMcZ3"
      },
      "execution_count": null,
      "outputs": []
    },
    {
      "cell_type": "code",
      "source": [
        "y_pred = model.predict(X_test)"
      ],
      "metadata": {
        "id": "2EDeI7cLMyt3"
      },
      "execution_count": null,
      "outputs": []
    }
  ]
}