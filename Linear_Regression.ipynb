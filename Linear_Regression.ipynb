{
  "nbformat": 4,
  "nbformat_minor": 0,
  "metadata": {
    "colab": {
      "provenance": []
    },
    "kernelspec": {
      "name": "python3",
      "display_name": "Python 3"
    },
    "language_info": {
      "name": "python"
    }
  },
  "cells": [
    {
      "cell_type": "code",
      "execution_count": null,
      "metadata": {
        "id": "2faJlSgONClv"
      },
      "outputs": [],
      "source": [
        "import pandas as pd\n",
        "import matplotlib.pyplot as plt\n",
        "import numpy as np"
      ]
    },
    {
      "cell_type": "code",
      "source": [
        "df = pd.read_csv('Models/scores.csv')"
      ],
      "metadata": {
        "id": "q1yGJQVJ4kgi"
      },
      "execution_count": null,
      "outputs": []
    },
    {
      "cell_type": "code",
      "source": [
        "df.head()"
      ],
      "metadata": {
        "id": "3hvRaB4fNx1o"
      },
      "execution_count": null,
      "outputs": []
    },
    {
      "cell_type": "code",
      "source": [
        "df.describe()"
      ],
      "metadata": {
        "id": "gvDRAtEYN0Mm"
      },
      "execution_count": null,
      "outputs": []
    },
    {
      "cell_type": "code",
      "source": [
        "from sklearn.linear_model import LinearRegression\n",
        "from sklearn.metrics import mean_squared_error\n",
        "lm = LinearRegression()\n",
        "\n"
      ],
      "metadata": {
        "id": "eULYEd-bOW_y"
      },
      "execution_count": null,
      "outputs": []
    },
    {
      "cell_type": "code",
      "source": [
        "X = np.array(df['After_School_Snacks_ADP']).reshape(-1, 1)\n",
        "y = np.array(df['Average District Score (SAT Math)']).reshape(-1, 1)\n",
        "lm.fit(X, y)\n",
        "\n",
        "plt.scatter(df['After_School_Snacks_ADP'], df['Average District Score (SAT Math)'])\n",
        "plt.plot(X, lm.predict(X))\n",
        "plt.xlabel('After School Snacks ADP')\n",
        "plt.ylabel('Average District Score (SAT Math)')\n",
        "plt.ylim(0, 600)\n",
        "plt.show()"
      ],
      "metadata": {
        "id": "Cyq1tlq7Pc5F"
      },
      "execution_count": null,
      "outputs": []
    },
    {
      "cell_type": "code",
      "source": [
        "X = np.array(df['After_School_Snacks_ADP']).reshape(-1, 1)\n",
        "y = np.array(df['Average District Score (SAT Reading)']).reshape(-1, 1)\n",
        "lm.fit(X, y)\n",
        "\n",
        "plt.scatter(df['After_School_Snacks_ADP'], df['Average District Score (SAT Reading)'])\n",
        "plt.plot(X, lm.predict(X))\n",
        "plt.xlabel('After School Snacks ADP')\n",
        "plt.ylabel('Average District Score (SAT Reading)')\n",
        "plt.ylim(0, 600)\n",
        "plt.show()"
      ],
      "metadata": {
        "id": "QTN89V4d2nsJ"
      },
      "execution_count": null,
      "outputs": []
    },
    {
      "cell_type": "code",
      "source": [
        "X = np.array(df['After_School_Snacks_ADP']).reshape(-1, 1)\n",
        "y = np.array(df['Average District Score (SAT Writing)']).reshape(-1, 1)\n",
        "lm.fit(X, y)\n",
        "\n",
        "plt.scatter(df['After_School_Snacks_ADP'], df['Average District Score (SAT Writing)'])\n",
        "plt.plot(X, lm.predict(X))\n",
        "plt.xlabel('After School Snacks ADP')\n",
        "plt.ylabel('Average District Score (SAT Writing)')\n",
        "plt.ylim(0, 600)\n",
        "plt.show()"
      ],
      "metadata": {
        "id": "uMvbxg9z2n4i"
      },
      "execution_count": null,
      "outputs": []
    },
    {
      "cell_type": "code",
      "source": [
        "X = np.array(df['After_School_Supper_ADP']).reshape(-1, 1)\n",
        "y = np.array(df['Average District Score (SAT Math)']).reshape(-1, 1)\n",
        "lm.fit(X, y)\n",
        "\n",
        "plt.scatter(df['After_School_Supper_ADP'], df['Average District Score (SAT Math)'])\n",
        "plt.plot(X, lm.predict(X))\n",
        "plt.xlabel('After School Supper ADP')\n",
        "plt.ylabel('Average District Score (SAT Math)')\n",
        "plt.ylim(0, 600)\n",
        "plt.show()"
      ],
      "metadata": {
        "id": "oWATsEwLJpvx"
      },
      "execution_count": null,
      "outputs": []
    },
    {
      "cell_type": "code",
      "source": [
        "X = np.array(df['After_School_Supper_ADP']).reshape(-1, 1)\n",
        "y = np.array(df['Average District Score (SAT Reading)']).reshape(-1, 1)\n",
        "lm.fit(X, y)\n",
        "\n",
        "plt.scatter(df['After_School_Supper_ADP'], df['Average District Score (SAT Reading)'])\n",
        "plt.plot(X, lm.predict(X))\n",
        "plt.xlabel('After School Supper ADP')\n",
        "plt.ylabel('Average District Score (SAT Reading)')\n",
        "plt.ylim(0, 600)\n",
        "plt.show()"
      ],
      "metadata": {
        "id": "WaKNWB7-JptF"
      },
      "execution_count": null,
      "outputs": []
    },
    {
      "cell_type": "code",
      "source": [
        "X = np.array(df['After_School_Supper_ADP']).reshape(-1, 1)\n",
        "y = np.array(df['Average District Score (SAT Writing)']).reshape(-1, 1)\n",
        "lm.fit(X, y)\n",
        "\n",
        "plt.scatter(df['After_School_Supper_ADP'], df['Average District Score (SAT Writing)'])\n",
        "plt.plot(X, lm.predict(X))\n",
        "plt.xlabel('After School Supper ADP')\n",
        "plt.ylabel('Average District Score (SAT Writing)')\n",
        "plt.ylim(0, 600)\n",
        "plt.show()"
      ],
      "metadata": {
        "id": "f1DlnS-4JpqD"
      },
      "execution_count": null,
      "outputs": []
    },
    {
      "cell_type": "code",
      "source": [
        "X = np.array(df['Lunch_ADP']).reshape(-1, 1)\n",
        "y = np.array(df['Average District Score (SAT Math)']).reshape(-1, 1)\n",
        "lm.fit(X, y)\n",
        "\n",
        "plt.scatter(df['Lunch_ADP'], df['Average District Score (SAT Math)'])\n",
        "plt.plot(X, lm.predict(X))\n",
        "plt.xlabel('Lunch ADP')\n",
        "plt.ylabel('Average District Score (SAT Math)')\n",
        "plt.ylim(0, 600)\n",
        "plt.show()"
      ],
      "metadata": {
        "id": "hxT8bogFJnZe"
      },
      "execution_count": null,
      "outputs": []
    },
    {
      "cell_type": "code",
      "source": [
        "X = np.array(df['Lunch_ADP']).reshape(-1, 1)\n",
        "y = np.array(df['Average District Score (SAT Reading)']).reshape(-1, 1)\n",
        "lm.fit(X, y)\n",
        "\n",
        "plt.scatter(df['Lunch_ADP'], df['Average District Score (SAT Reading)'])\n",
        "plt.plot(X, lm.predict(X))\n",
        "plt.xlabel('Lunch ADP')\n",
        "plt.ylabel('Average District Score (SAT Reading)')\n",
        "plt.ylim(0, 600)\n",
        "plt.show()"
      ],
      "metadata": {
        "id": "3U3gjBKfJnV3"
      },
      "execution_count": null,
      "outputs": []
    },
    {
      "cell_type": "code",
      "source": [
        "X = np.array(df['Lunch_ADP']).reshape(-1, 1)\n",
        "y = np.array(df['Average District Score (SAT Writing)']).reshape(-1, 1)\n",
        "lm.fit(X, y)\n",
        "\n",
        "plt.scatter(df['Lunch_ADP'], df['Average District Score (SAT Writing)'])\n",
        "plt.plot(X, lm.predict(X))\n",
        "plt.xlabel('Lunch ADP')\n",
        "plt.ylabel('Average District Score (SAT Writing)')\n",
        "plt.ylim(0, 600)\n",
        "plt.show()"
      ],
      "metadata": {
        "id": "tDPWPm54JnSM"
      },
      "execution_count": null,
      "outputs": []
    },
    {
      "cell_type": "code",
      "source": [
        "X = np.array(df['Breakfast_ADP']).reshape(-1, 1)\n",
        "y = np.array(df['Average District Score (SAT Math)']).reshape(-1, 1)\n",
        "lm.fit(X, y)\n",
        "\n",
        "plt.scatter(df['Breakfast_ADP'], df['Average District Score (SAT Math)'])\n",
        "plt.plot(X, lm.predict(X))\n",
        "plt.xlabel('Breakfast ADP')\n",
        "plt.ylabel('Average District Score (SAT Math)')\n",
        "plt.ylim(0, 600)\n",
        "plt.show()"
      ],
      "metadata": {
        "id": "i2z1bC2BJmxN"
      },
      "execution_count": null,
      "outputs": []
    },
    {
      "cell_type": "code",
      "source": [
        "X = np.array(df['Breakfast_ADP']).reshape(-1, 1)\n",
        "y = np.array(df['Average District Score (SAT Reading)']).reshape(-1, 1)\n",
        "lm.fit(X, y)\n",
        "\n",
        "plt.scatter(df['Breakfast_ADP'], df['Average District Score (SAT Reading)'])\n",
        "plt.plot(X, lm.predict(X))\n",
        "plt.xlabel('Breakfast ADP')\n",
        "plt.ylabel('Average District Score (SAT Reading)')\n",
        "plt.ylim(0, 600)\n",
        "plt.show()"
      ],
      "metadata": {
        "id": "1M-I1lCgJmqw"
      },
      "execution_count": null,
      "outputs": []
    },
    {
      "cell_type": "code",
      "source": [
        "X = np.array(df['Breakfast_ADP']).reshape(-1, 1)\n",
        "y = np.array(df['Average District Score (SAT Writing)']).reshape(-1, 1)\n",
        "lm.fit(X, y)\n",
        "\n",
        "plt.scatter(df['Breakfast_ADP'], df['Average District Score (SAT Writing)'])\n",
        "plt.plot(X, lm.predict(X))\n",
        "plt.xlabel('Breakfast ADP')\n",
        "plt.ylabel('Average District Score (SAT Writing)')\n",
        "plt.ylim(0, 600)\n",
        "plt.show()"
      ],
      "metadata": {
        "id": "z7GtlhvHJmhQ"
      },
      "execution_count": null,
      "outputs": []
    }
  ]
}